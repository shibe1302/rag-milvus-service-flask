{
 "cells": [
  {
   "cell_type": "code",
   "execution_count": 34,
   "metadata": {},
   "outputs": [],
   "source": [
    "# Create a collection in customized setup mode\n",
    "from pymilvus import (\n",
    "    MilvusClient, DataType,Function,FunctionType\n",
    ")"
   ]
  },
  {
   "cell_type": "code",
   "execution_count": 52,
   "metadata": {},
   "outputs": [
    {
     "data": {
      "text/plain": [
       "{'auto_id': False, 'description': '', 'fields': [{'name': 'id', 'description': '', 'type': <DataType.INT64: 5>, 'is_primary': True, 'auto_id': False}, {'name': 'text', 'description': '', 'type': <DataType.VARCHAR: 21>, 'params': {'max_length': 1000, 'enable_analyzer': True}}, {'name': 'sparse', 'description': '', 'type': <DataType.SPARSE_FLOAT_VECTOR: 104>}, {'name': 'dense', 'description': '', 'type': <DataType.FLOAT_VECTOR: 101>, 'params': {'dim': 768}}], 'enable_dynamic_field': True}"
      ]
     },
     "execution_count": 52,
     "metadata": {},
     "output_type": "execute_result"
    }
   ],
   "source": [
    "\n",
    "client = MilvusClient(\n",
    "    uri=\"http://localhost:19530\"\n",
    ")\n",
    "\n",
    "# Create schema\n",
    "schema = MilvusClient.create_schema(\n",
    "    auto_id=False,\n",
    "    enable_dynamic_field=True,\n",
    ")\n",
    "# Add fields to schema\n",
    "schema.add_field(field_name=\"id\", datatype=DataType.INT64, is_primary=True)\n",
    "schema.add_field(field_name=\"text\", datatype=DataType.VARCHAR, max_length=1000,enable_analyzer=True)\n",
    "# Define a sparse vector field to generate spare vectors with BM25\n",
    "schema.add_field(field_name=\"sparse\", datatype=DataType.SPARSE_FLOAT_VECTOR)\n",
    "schema.add_field(field_name=\"dense\", datatype=DataType.FLOAT_VECTOR, dim=768)\n"
   ]
  },
  {
   "cell_type": "code",
   "execution_count": null,
   "metadata": {},
   "outputs": [],
   "source": [
    "client.drop_collection(\n",
    "    collection_name=\"hybrid_search_collection\"\n",
    ") # chạy lệnh này để drop collection cũ trên milvus nếu tồn tại"
   ]
  },
  {
   "cell_type": "code",
   "execution_count": 53,
   "metadata": {},
   "outputs": [
    {
     "data": {
      "text/plain": [
       "{'auto_id': False, 'description': '', 'fields': [{'name': 'id', 'description': '', 'type': <DataType.INT64: 5>, 'is_primary': True, 'auto_id': False}, {'name': 'text', 'description': '', 'type': <DataType.VARCHAR: 21>, 'params': {'max_length': 1000, 'enable_analyzer': True}}, {'name': 'sparse', 'description': '', 'type': <DataType.SPARSE_FLOAT_VECTOR: 104>, 'is_function_output': True}, {'name': 'dense', 'description': '', 'type': <DataType.FLOAT_VECTOR: 101>, 'params': {'dim': 768}}], 'enable_dynamic_field': True, 'functions': [{'name': 'text_bm25_emb', 'description': '', 'type': <FunctionType.BM25: 1>, 'input_field_names': ['text'], 'output_field_names': ['sparse'], 'params': {}}]}"
      ]
     },
     "execution_count": 53,
     "metadata": {},
     "output_type": "execute_result"
    }
   ],
   "source": [
    "# Define function to generate sparse vectors\n",
    "\n",
    "bm25_function = Function(\n",
    "    name=\"text_bm25_emb\", # Function name\n",
    "    input_field_names=[\"text\"], # Name of the VARCHAR field containing raw text data\n",
    "    output_field_names=[\"sparse\"], # Name of the SPARSE_FLOAT_VECTOR field reserved to store generated embeddings\n",
    "    function_type=FunctionType.BM25,\n",
    "    \n",
    "\n",
    ")\n",
    "\n",
    "schema.add_function(bm25_function)"
   ]
  },
  {
   "cell_type": "code",
   "execution_count": 54,
   "metadata": {},
   "outputs": [],
   "source": [
    "from pymilvus import MilvusClient\n",
    "\n",
    "# Prepare index parameters\n",
    "index_params = client.prepare_index_params()\n",
    "\n",
    "# Add indexes\n",
    "index_params.add_index(\n",
    "    field_name=\"dense\",\n",
    "    index_name=\"dense_index\",\n",
    "    index_type=\"IVF_FLAT\",\n",
    "    metric_type=\"IP\",\n",
    "    params={\"nlist\": 128},\n",
    ")\n",
    "\n",
    "index_params.add_index(\n",
    "    field_name=\"sparse\",\n",
    "    index_name=\"sparse_index\",\n",
    "    index_type=\"SPARSE_INVERTED_INDEX\",  # Index type for sparse vectors\n",
    "    metric_type=\"BM25\",  # Set to `BM25` when using function to generate sparse vectors\n",
    "    params={\"inverted_index_algo\": \"DAAT_MAXSCORE\"},  # The ratio of small vector values to be dropped during indexing\n",
    ")"
   ]
  },
  {
   "cell_type": "code",
   "execution_count": 55,
   "metadata": {},
   "outputs": [],
   "source": [
    "from pymilvus import MilvusClient\n",
    "\n",
    "client.create_collection(\n",
    "    collection_name=\"hybrid_search_collection\",\n",
    "    schema=schema,\n",
    "    index_params=index_params\n",
    ")"
   ]
  },
  {
   "cell_type": "code",
   "execution_count": 56,
   "metadata": {},
   "outputs": [],
   "source": [
    "from langchain.text_splitter import RecursiveCharacterTextSplitter\n",
    "from underthesea import sent_tokenize\n",
    "from langchain_community.document_loaders import TextLoader\n",
    "from sentence_transformers import SentenceTransformer\n",
    "from tqdm import tqdm"
   ]
  },
  {
   "cell_type": "code",
   "execution_count": 59,
   "metadata": {},
   "outputs": [],
   "source": [
    "\n",
    "\n",
    "def load_and_split_txt():\n",
    "    # Bước 1: Đọc nội dung từ file TXT\n",
    "    loader = TextLoader('ictu.txt',encoding='utf-8')\n",
    "    documents = loader.load()\n",
    "\n",
    "    # Bước 2: Ghép nội dung các phần lại\n",
    "    full_text = \"\\n\".join([doc.page_content for doc in documents])\n",
    "\n",
    "    # Bước 3: Tách câu sử dụng underthesea (cho tiếng Việt)\n",
    "    sentences = sent_tokenize(full_text)\n",
    "\n",
    "    return sentences"
   ]
  },
  {
   "cell_type": "code",
   "execution_count": 60,
   "metadata": {},
   "outputs": [],
   "source": [
    "chunks = load_and_split_txt()"
   ]
  },
  {
   "cell_type": "code",
   "execution_count": 61,
   "metadata": {},
   "outputs": [
    {
     "data": {
      "text/plain": [
       "['Khoa Công nghệ thông tin\\n1.',\n",
       " 'Lịch sử hình thành và phát triển\\nKhoa Công nghệ thông tin thuộc Trường Đại học Công nghệ Thông tin và Truyền thông tiền thân có 04 bộ môn: Khoa học Máy tính, Công nghệ Phần mềm, Kỹ thuật Máy tính và Mạng máy tính & các Hệ thống Thông tin – là đơn vị chuyên môn chủ chốt của Khoa Công nghệ thông tin thuộc ĐHTN trong những năm đầu mới thành lập.Với đội ngũ cán bộ giảng viên trẻ, sáng tạo và nhiệt huyết, các Bộ môn đã có những đóng góp không nhỏ trong sự phát triển chung của nhà trường.',\n",
       " 'Ngày 11/08/2011 Khoa Công nghệ thông tin thuộc Trường Đại học Công nghệ Thông tin và Truyền thông được thành lập theo Quyết định số 802/QĐ-ĐHTN của Giám đốc Đại học Thái nguyên.',\n",
       " 'Theo Quyết định, Khoa có 04 Bộ môn: Khoa học Máy tính, Công nghệ Phần mềm, Hệ Thống thông Tin, Mạng & Truyền thông và bộ phận Văn phòng.',\n",
       " '2.Chức năng, nhiệm vụ: Khoa có chức năng, nhiệm vụ đào tạo nguồn nhân lực chất lượng về lĩnh vực Công nghệ thông tin; nghiên cứu khoa học và chuyển giao công nghệ cho các tỉnh trung du miền núi phía Bắc và cả nước.',\n",
       " 'Năm 2023, thực hiện đề án tái cấu trúc của nhà trường, Khoa đã xây dựng định hướng chuyên môn và sắp xếp lại với cơ cấu: bộ môn Khoa học Máy tính, bộ môn Công nghệ phần mềm, bộ môn Mạng và An toàn Thông tin, bộ môn Hệ Thống thông tin, bộ môn Kỹ thuật máy t ính và Văn phòng khoa.',\n",
       " '3.Đội ngũ: Khoa CNTT hiện có 82 cán bộ giảng viên, trong đó 39% giảng viên có trình độ tiến sĩ còn lại là thạc sỹ và NCS.',\n",
       " 'Các giảng viên trong khoa đều có trình độ chuyên môn tốt được đào tạo bài bản, có năng lực chuyên môn và ngoại ngữ tốt, năng động và tận tình trong công tác.',\n",
       " 'Do đó, đảm bảo giảng dạy chất lượng cho 07 ngành bậc đại học: Công nghệ thông tin; Khoa học máy tính; Kỹ thuật phần mềm; Hệ thống thông tin; An toàn thông tin; Truyền thông và mạng máy tính, Kỹ thuật máy tính, 02 ngành bậc thạc sỹ là Khoa học Máy tính  và Quản lý công nghệ thông tin, 01 ngành bậc tiến sỹ Khoa học Máy Tính.',\n",
       " '4.Lãnh đạo Bộ môn/Khoa qua các thời kỳ\\nTrưởng Bộ môn/Khoa: Giai đoạn 2004-2011 (PGS.TS Đoàn Văn Ban; PGS.TS Đặng Văn Đức; GS.TS Vũ Đức Thi; PGS.TS Nguyễn Văn Tam; PGS.TS Phạm Việt Bình; TS Lê Quang Minh); Giai đoạn 2016-2021 (TS. Nguyễn Hải Minh) giai đoạn 2021-2026 (TS. Nguyễn Hải Minh; TS. Quách Xuân Trưởng).',\n",
       " 'Phó trưởng Bộ môn/Khoa: Giai đoạn 2011-2016 và 2016-2021 (GS.TS Đặng Quang Á; PGS.TSKH Nguyễn Xuân Huy; PGS.TS Ngô Quốc Tạo; TS. Đỗ Đình Cường – đến 2017; TS. Nguyễn Hải Minh (đến 2016) và ThS. Quách Xuân Trưởng; Giai đoạn 2021-2023 (TS. Quách Xuân Trưởng, TS. Nguyễn Văn Núi – đến 2021 và TS. Đàm Thanh Phương – đến năm 2023); Giai đoạn 2023 – 2026 (TS Nguyễn Đức Bình; TS. Nguyễn Toàn Thắng)\\n\\n\\nBan Lãnh đạo Khoa hiện tại Trưởng khoa (TS. Quách Xuân Trưởng); Phó Trưởng khoa (TS. Nguyễn Toàn Thắng và TS. Nguyễn Đức Bình).',\n",
       " 'Lãnh đạo Khoa Công nghệ thông tin các thời kỳ\\nMục tiêu và tầm mình của Khoa đến năm 2030: Xây dựng một môi trường học tập năng động, tận tâm và quốc tế hóa.',\n",
       " 'Đào tạo theo hướng tiệm cận với môi trường thực tiễn, tiếp cận gần hơn với các nền khoa học, giáo dục hiện đại và tiên tiến trên thế giới.',\n",
       " 'Chương trình đào tạo và tổ chức đào tạo khoa học, ngang tầm với các nước trong khu vực như: Đài Loan, Nhật Bản và Singapore.']"
      ]
     },
     "execution_count": 61,
     "metadata": {},
     "output_type": "execute_result"
    }
   ],
   "source": [
    "chunks"
   ]
  },
  {
   "cell_type": "code",
   "execution_count": 62,
   "metadata": {},
   "outputs": [],
   "source": [
    "sbert_model = SentenceTransformer.load(\"./models/vietnamese-sbert\")"
   ]
  },
  {
   "cell_type": "code",
   "execution_count": 63,
   "metadata": {},
   "outputs": [],
   "source": [
    "def emb_text(text):\n",
    "    # Tạo embedding từ SBERT\n",
    "    embedding = sbert_model.encode(text).tolist()\n",
    "    return embedding"
   ]
  },
  {
   "cell_type": "code",
   "execution_count": 64,
   "metadata": {},
   "outputs": [
    {
     "name": "stderr",
     "output_type": "stream",
     "text": [
      "Creating embeddings: 100%|██████████| 14/14 [00:01<00:00, 11.43it/s]\n"
     ]
    },
    {
     "data": {
      "text/plain": [
       "{'insert_count': 14, 'ids': [0, 1, 2, 3, 4, 5, 6, 7, 8, 9, 10, 11, 12, 13], 'cost': 0}"
      ]
     },
     "execution_count": 64,
     "metadata": {},
     "output_type": "execute_result"
    }
   ],
   "source": [
    "data = []\n",
    "for i, line in enumerate(tqdm(chunks, desc=\"Creating embeddings\")):\n",
    "    data.append({\"id\": i,\"text\": line ,\"dense\": emb_text(line) })\n",
    "client.insert(collection_name='hybrid_search_collection', data=data)"
   ]
  },
  {
   "cell_type": "code",
   "execution_count": 66,
   "metadata": {},
   "outputs": [],
   "source": [
    "querry=\"Lãnh đạo Bộ môn/Khoa qua các thời kỳ ?\""
   ]
  },
  {
   "cell_type": "code",
   "execution_count": 67,
   "metadata": {},
   "outputs": [],
   "source": [
    "from pymilvus import AnnSearchRequest\n",
    "\n",
    "search_param_1 = {\n",
    "    \"data\": [emb_text(querry)],\n",
    "    \"anns_field\": \"dense\",\n",
    "    \"param\": {\n",
    "        \"metric_type\": \"IP\",\n",
    "        \"params\": {\"nprobe\": 10}\n",
    "    },\n",
    "    \"limit\": 2\n",
    "}\n",
    "request_1 = AnnSearchRequest(**search_param_1)\n",
    "\n",
    "search_param_2 = {\n",
    "    \"data\": [querry],\n",
    "    \"anns_field\": \"sparse\",\n",
    "    \"param\": {\n",
    "        \"metric_type\": \"BM25\",\n",
    "    },\n",
    "    \"limit\": 2\n",
    "}\n",
    "request_2 = AnnSearchRequest(**search_param_2)\n",
    "\n",
    "reqs = [request_1, request_2]"
   ]
  },
  {
   "cell_type": "code",
   "execution_count": null,
   "metadata": {},
   "outputs": [],
   "source": [
    "# from pymilvus import WeightedRanker\n",
    "# bạn có thể dùng thằng WeightedRanker để tùy chỉnh xem bạn muốn\n",
    "# phần nào quan trọng hơn ngữ nghĩa hay là khớp từ\n",
    "# ranker = WeightedRanker(0.8, 0.3) "
   ]
  },
  {
   "cell_type": "code",
   "execution_count": null,
   "metadata": {},
   "outputs": [],
   "source": [
    "from pymilvus import RRFRanker\n",
    "# ở đây sử dụng RRF để nó tự cân bằng giữa sparse và dense\n",
    "ranker = RRFRanker(100)"
   ]
  },
  {
   "cell_type": "code",
   "execution_count": 70,
   "metadata": {},
   "outputs": [
    {
     "name": "stdout",
     "output_type": "stream",
     "text": [
      "TopK results:\n",
      "{'id': 9, 'distance': 0.019801979884505272, 'entity': {'text': '4.Lãnh đạo Bộ môn/Khoa qua các thời kỳ\\nTrưởng Bộ môn/Khoa: Giai đoạn 2004-2011 (PGS.TS Đoàn Văn Ban; PGS.TS Đặng Văn Đức; GS.TS Vũ Đức Thi; PGS.TS Nguyễn Văn Tam; PGS.TS Phạm Việt Bình; TS Lê Quang Minh); Giai đoạn 2016-2021 (TS. Nguyễn Hải Minh) giai đoạn 2021-2026 (TS. Nguyễn Hải Minh; TS. Quách Xuân Trưởng).'}}\n",
      "{'id': 4, 'distance': 0.009803921915590763, 'entity': {'text': '2.Chức năng, nhiệm vụ: Khoa có chức năng, nhiệm vụ đào tạo nguồn nhân lực chất lượng về lĩnh vực Công nghệ thông tin; nghiên cứu khoa học và chuyển giao công nghệ cho các tỉnh trung du miền núi phía Bắc và cả nước.'}}\n"
     ]
    }
   ],
   "source": [
    "from pymilvus import MilvusClient\n",
    "\n",
    "res = client.hybrid_search(\n",
    "    collection_name=\"hybrid_search_collection\",\n",
    "    reqs=reqs,\n",
    "    ranker=ranker,\n",
    "    limit=2,\n",
    "    output_fields=[\"text\"]\n",
    ")\n",
    "for hits in res:\n",
    "    print(\"TopK results:\")\n",
    "    for hit in hits:\n",
    "        print(hit)"
   ]
  },
  {
   "cell_type": "code",
   "execution_count": null,
   "metadata": {},
   "outputs": [],
   "source": []
  }
 ],
 "metadata": {
  "kernelspec": {
   "display_name": ".venv",
   "language": "python",
   "name": "python3"
  },
  "language_info": {
   "codemirror_mode": {
    "name": "ipython",
    "version": 3
   },
   "file_extension": ".py",
   "mimetype": "text/x-python",
   "name": "python",
   "nbconvert_exporter": "python",
   "pygments_lexer": "ipython3",
   "version": "3.11.6"
  }
 },
 "nbformat": 4,
 "nbformat_minor": 2
}
